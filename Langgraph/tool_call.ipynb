{
 "cells": [
  {
   "cell_type": "markdown",
   "metadata": {},
   "source": [
    "## Langgraph lecture 1 \n",
    "\n",
    "1. we will do multiple different type of tool calls.\n",
    "Wikipedia tool call, youtube search call, tavily search call \n",
    "\n"
   ]
  },
  {
   "cell_type": "markdown",
   "metadata": {},
   "source": []
  },
  {
   "cell_type": "code",
   "execution_count": 1,
   "metadata": {},
   "outputs": [],
   "source": [
    "from langchain_community.tools import WikipediaQueryRun\n",
    "from langchain_community.utilities import WikipediaAPIWrapper"
   ]
  },
  {
   "cell_type": "code",
   "execution_count": 2,
   "metadata": {},
   "outputs": [],
   "source": [
    "wikipedia = WikipediaQueryRun(api_wrapper=WikipediaAPIWrapper())"
   ]
  },
  {
   "cell_type": "code",
   "execution_count": 3,
   "metadata": {},
   "outputs": [
    {
     "data": {
      "text/plain": [
       "'Page: Aviation accidents and incidents\\nSummary: An aviation accident is an event during aircraft operation that results serious injury, death, or significant destruction. An aviation incident is any operating event that compromises safety but does not escalate into an aviation accident. Preventing both accidents and incidents is the primary goal of aviation safety.\\nOne of the earliest recorded aviation accidents occurred on May 10, 1785, when a hot air balloon crashed in Tullamore, County Offaly, Ireland. The resulting fire seriously damaged the town, destroying over 130 homes. The first accident involving a powered aircraft occurred on September 17, 1908, when a Wright Model A crashed at Fort Myer, Virginia, USA. The pilot and co-inventor, Orville Wright, was injured, and the passenger, Signal Corps Lieutenant Thomas Selfridge, was killed.\\n\\nPage: List of aircraft accidents and incidents by number of ground fatalities\\nSummary: The following is a list of aircraft accidents and incidents which have resulted in fatalities on the ground. Aircraft crashes with a high number of ground fatalities typically occur in areas where there are large congregations of people, such as buildings, marketplaces, neighborhoods, and sporting events.\\nAs of 16 June 2025, 67 accidents and incidents have resulted in at least twelve ground fatalities, fourteen at least 50 ground fatalities, and five over 100 ground fatalities.\\n\\nPage: Jallianwala Bagh massacre\\nSummary: The Jallianwala Bagh massacre, also known as the Amritsar massacre, took place on 13 April 1919. A large crowd had gathered at the Jallianwala Bagh in Amritsar, Punjab, British India, during the annual Baisakhi fair to protest against the Rowlatt Act and the arrest of pro-Indian independence activists Saifuddin Kitchlew and Satyapal. In response to the public gathering, the temporary brigadier general R. E. H. Dyer surrounded the people with his Gurkha and Sikh infantry regiments of the British Indian Army. The Jallianwala Bagh could only be exited on one side, as its other three sides were enclosed by buildings. After blocking the exit with his troops, Dyer ordered them to shoot at the crowd, continuing to fire even as the protestors tried to flee. The troops kept on firing until their ammunition was low and they were ordered to stop. Estimates of those killed vary from 379 to 1,500 or more people; over 1,200 others were injured, of whom 192 sustained serious injury. Britain has never formally apologised for the massacre but expressed \"deep regret\" in 2019.\\nThe massacre caused a re-evaluation by the Imperial British military of its role when confronted with civilians to use \"minimal force whenever possible\" (although the British Army was not directly involved in the massacre; the British Indian Army was a separate organisation). However, in the light of later British military actions during the Mau Mau rebellion in the Kenya Colony, historian Huw Bennett has pointed out that this new policy was not always followed. The army was retrained with less violent tactics for crowd control.\\nThe level of casual brutality and the lack of any accountability stunned the entire nation, resulting in a wrenching loss of faith of the general Indian public in the intentions of the United Kingdom. The attack was condemned by the Secretary of State for War, Winston Churchill, as \"unutterably monstrous\", and in the UK House of Commons debate on 8 July 1920 Members of Parliament voted 247 to 37 against Dyer. The ineffective inquiry, together with the initial accolades for Dyer, fuelled great widespread anger against the British among the Indian populace, leading to the non-cooperation movement of 1920–22.'"
      ]
     },
     "execution_count": 3,
     "metadata": {},
     "output_type": "execute_result"
    }
   ],
   "source": [
    "wikipedia.run(\"ahmedabad incident recently?\")"
   ]
  },
  {
   "cell_type": "code",
   "execution_count": 4,
   "metadata": {},
   "outputs": [],
   "source": [
    "from langchain_community.tools import YouTubeSearchTool"
   ]
  },
  {
   "cell_type": "code",
   "execution_count": null,
   "metadata": {},
   "outputs": [
    {
     "data": {
      "text/plain": [
       "\"['https://www.youtube.com/watch?v=ZPUtA3W-7_I&pp=ygULbGV4IGZyaWRtYW4%3D', 'https://www.youtube.com/watch?v=vOVoHs2k5nc&pp=ygULbGV4IGZyaWRtYW4%3D']\""
      ]
     },
     "execution_count": 7,
     "metadata": {},
     "output_type": "execute_result"
    }
   ],
   "source": [
    "tool = YouTubeSearchTool()\n",
    "tool.run(\"boeing 787 dreamliner latest incidents\")"
   ]
  },
  {
   "cell_type": "code",
   "execution_count": null,
   "metadata": {},
   "outputs": [],
   "source": []
  }
 ],
 "metadata": {
  "kernelspec": {
   "display_name": "venv",
   "language": "python",
   "name": "python3"
  },
  "language_info": {
   "codemirror_mode": {
    "name": "ipython",
    "version": 3
   },
   "file_extension": ".py",
   "mimetype": "text/x-python",
   "name": "python",
   "nbconvert_exporter": "python",
   "pygments_lexer": "ipython3",
   "version": "3.11.4"
  }
 },
 "nbformat": 4,
 "nbformat_minor": 2
}
